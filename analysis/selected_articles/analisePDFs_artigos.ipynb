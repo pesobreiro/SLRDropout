{
 "cells": [
  {
   "cell_type": "markdown",
   "metadata": {},
   "source": [
    "# PDFs analysis\n",
    "\n"
   ]
  },
  {
   "cell_type": "code",
   "execution_count": 1,
   "metadata": {},
   "outputs": [],
   "source": [
    "caminho=!pwd"
   ]
  },
  {
   "cell_type": "code",
   "execution_count": 2,
   "metadata": {},
   "outputs": [
    {
     "data": {
      "text/plain": [
       "'/mnt/c/nuvem/Dropbox/doutoramento/tese/SLRDropout/analysis/selected_articles'"
      ]
     },
     "execution_count": 2,
     "metadata": {},
     "output_type": "execute_result"
    }
   ],
   "source": [
    "caminho[0]"
   ]
  },
  {
   "cell_type": "code",
   "execution_count": 3,
   "metadata": {},
   "outputs": [],
   "source": [
    "import pdfplumber"
   ]
  },
  {
   "cell_type": "code",
   "execution_count": 4,
   "metadata": {},
   "outputs": [],
   "source": [
    "from transformers import pipeline"
   ]
  },
  {
   "cell_type": "markdown",
   "metadata": {},
   "source": [
    "The framework to use, either \"pt\" for PyTorch or \"tf\" for TensorFlow. The specified framework must be installed."
   ]
  },
  {
   "cell_type": "code",
   "execution_count": 5,
   "metadata": {},
   "outputs": [
    {
     "data": {
      "application/vnd.jupyter.widget-view+json": {
       "model_id": "932823ae04d942f3918e41a3d49ac272",
       "version_major": 2,
       "version_minor": 0
      },
      "text/plain": [
       "Downloading:   0%|          | 0.00/1.62k [00:00<?, ?B/s]"
      ]
     },
     "metadata": {},
     "output_type": "display_data"
    },
    {
     "data": {
      "application/vnd.jupyter.widget-view+json": {
       "model_id": "023bb3038d074cba976836705aa9b57b",
       "version_major": 2,
       "version_minor": 0
      },
      "text/plain": [
       "Downloading:   0%|          | 0.00/899k [00:00<?, ?B/s]"
      ]
     },
     "metadata": {},
     "output_type": "display_data"
    },
    {
     "data": {
      "application/vnd.jupyter.widget-view+json": {
       "model_id": "bce6de3c4df84750b7c36f2b33bf55fb",
       "version_major": 2,
       "version_minor": 0
      },
      "text/plain": [
       "Downloading:   0%|          | 0.00/456k [00:00<?, ?B/s]"
      ]
     },
     "metadata": {},
     "output_type": "display_data"
    },
    {
     "data": {
      "application/vnd.jupyter.widget-view+json": {
       "model_id": "1d3642068c94498c84ff0f89b19ebf19",
       "version_major": 2,
       "version_minor": 0
      },
      "text/plain": [
       "Downloading:   0%|          | 0.00/26.0 [00:00<?, ?B/s]"
      ]
     },
     "metadata": {},
     "output_type": "display_data"
    },
    {
     "data": {
      "application/vnd.jupyter.widget-view+json": {
       "model_id": "5300568e56a04cdcbf448e78d766ad8e",
       "version_major": 2,
       "version_minor": 0
      },
      "text/plain": [
       "Downloading:   0%|          | 0.00/1.22G [00:00<?, ?B/s]"
      ]
     },
     "metadata": {},
     "output_type": "display_data"
    }
   ],
   "source": [
    "summarization = pipeline(\"summarization\",framework='pt')"
   ]
  },
  {
   "cell_type": "code",
   "execution_count": 6,
   "metadata": {},
   "outputs": [],
   "source": [
    "caminho = caminho[0]"
   ]
  },
  {
   "cell_type": "code",
   "execution_count": 7,
   "metadata": {},
   "outputs": [
    {
     "data": {
      "text/plain": [
       "'/mnt/c/nuvem/Dropbox/doutoramento/tese/SLRDropout/analysis/selected_articles'"
      ]
     },
     "execution_count": 7,
     "metadata": {},
     "output_type": "execute_result"
    }
   ],
   "source": [
    "caminho"
   ]
  },
  {
   "cell_type": "code",
   "execution_count": 8,
   "metadata": {},
   "outputs": [
    {
     "data": {
      "text/plain": [
       "False"
      ]
     },
     "execution_count": 8,
     "metadata": {},
     "output_type": "execute_result"
    }
   ],
   "source": [
    "import torch\n",
    "torch.cuda.is_available()"
   ]
  },
  {
   "cell_type": "code",
   "execution_count": null,
   "metadata": {},
   "outputs": [
    {
     "name": "stdout",
     "output_type": "stream",
     "text": [
      "/mnt/c/nuvem/Dropbox/doutoramento/tese/SLRDropout/analysis/selected_articles/final_dataset/files/11391/Hung et al_2006_Applying data mining to telecom churn management.pdf\n",
      "<Page:1>  This material is brought to you by the Pacific Asia Conference on Information Systems (PACIS) at AIS Electronic Library (AISeL) It has been accepted for inclusion in PACIS 2004 Proceedings by an authorized administrator of AIS . For more information, please contact contact contactelibrary@aisnet.org.au .\n",
      "<Page:2>  Taiwan deregulated its wireless telecommunication services in 1997 . Churn management becomes a major focus of mobile operators to retain customers . Figure 1 suggests that Asian telecom providers face a more challenging challenge than those in the other parts of the world . Study compares various data mining techniques that can assign a “propensity-to-churn” score periodically to each and every  subscriber of a mobile operator .\n",
      "<Page:3>  This paper shares the result of the research. Section 2 defines some basic concepts (and rationale) that we use in the research . Section 3 describes our research methodology, and Section 4 presents the findings. Section 5 concludes our presentation. Section 1 defines some of the basic concepts and the findings .\n",
      "<Page:4>  Data mining techniques most commonly used include clustering, associations, rule induction, genetic algorithm, decision tree, and neural network . Table 1 summarizes some data mining functionalities, techniques, and applications in CRM space . Churn Prediction Data Mining Assessment Methodology assesses performance of various data mining techniques .\n",
      "<Page:5>  Research selected Decision Tree, Neural Network and K-means cluster as data mining techniques to build predictive models or segment customers . Churner is defined as a subscriber  who is voluntary to leave; non-churner  is the subscriber who is still using this operator’s service . We used latest six months’ transactions of each subscriber to  predict customers’ churn probability of the following month .\n",
      "<Page:6>  Models were built by Decision Tree (C5.0) and Back .Propagation Neural Network (BPN) techniques . Data Preprocessing, Variable Analysis and Selection, and Data Extraction, is a formalized system integration process to ensure data quality and code optimization . We took two approaches to assess how models built using Decision Tree and Back.0 techniques perform .\n",
      "<Page:7>  In Approach 1, we used K-means clustering methods to segment customers into 5 clusters . Then we create a Decision Tree model in each cluster (see Approach 1 in Figure 3) This is to assess if the churn behaviors are different in different “Value-Loyalty’s” segments . LIFT is a measure of productivity with modeling .\n",
      "<Page:8>  A wireless telecom company in Taiwan provides their customer related data . The data source includes data of about 160,000 subscribers, including 14,000 churners, from July 2001 to June 2002 . We got possible variables from other researches and telecom experts’ interviews . We then analyzed these variables with z-test from four dimensions .\n",
      "<Page:9>  To segment customers by loyalty, contribution, and usage, we selected Bill Amount, Tenure, MOU, MTU, and Payment Rate as variables . We used K-Means to model the customers into 5 clusters . To generate roughly the same number of subscribers in each of the 5 clusters, we divided the customers equally into three segments .\n"
     ]
    },
    {
     "name": "stderr",
     "output_type": "stream",
     "text": [
      "Token indices sequence length is longer than the specified maximum sequence length for this model (1530 > 1024). Running this sequence through the model will result in indexing errors\n"
     ]
    },
    {
     "name": "stdout",
     "output_type": "stream",
     "text": [
      "<Page:10> erro\n",
      "<Page:11>  We use the same training set for BPN as for Decision Tree . Table 6 shows the results, in which model  N18-R6, for example, uses 18 neurons in the hidden layer with 0.6 learning rate . Figure 5 shows that all the models demonstrate stable accuracy in the first 6 months . However, there a significant degradation occurs in the month of February 2002, regardless  of modeling techniques .\n",
      "<Page:12>  Table 7 lists T-test results:  The performance of decision tree model without segmentation is better than that with segmentation . Table 7 shows that the performance of BPN is better on both  hit ratio and capture rate . Table 8 shows that neural network models are better than decision tree models without segmentations .\n",
      "<Page:13>  The mobile service provider only budgeted this study at the population of about 160,000 customers, and the associated monthly churn rate was only 0.71% . The data size was not sufficient to build a good predictive model by each customer segment because we could not explore real significant information from only few churners .\n",
      "<Page:14>  Churn prediction and management is critical in liberalized mobile telecom markets . Mobile service providers must be able to predict possible churners and take proactive actions to retain valuable customers . Data mining techniques can be applied in many fields in CRM space, such as credit card fraud detection and credit score .\n",
      "<Page:15>  Thearling, Kurt “A Introduction of Data Mining”, Direct Marketing Magazine, Feb 1999 . Setiono, Rudy, Liu, Huan “Neural-Network feature selector’, IEEE transaction on neural . network, Vol. 8(3), 1997, pp654-661 .\n",
      "/mnt/c/nuvem/Dropbox/doutoramento/tese/SLRDropout/analysis/selected_articles/final_dataset/files/11393/Dierkes et al_2011_Estimating the effect of word of mouth on churn and cross-buying in the mobile.pdf\n",
      "<Page:1>  The results provide evidence that word of mouth has a considerable impact on customers’ churn decisions and also on the purchase decisions, leading to a 19.5% and 8.4% increase in sensitivity of pre-dictive models . The results show that information on the churn of network neigh-bors has a significant positive impact on the predictive accuracy and in particular the sensitivity of churn models .\n",
      "<Page:2>  The churn rate refers to the proportion of contractual customers or subscribers who leave a service pro-uablyvider during a given time period . It is a possible indicator of customer dissatisfaction, cheaper and/or bet-ter offers from the competition, or reasons related to the customer life cycle . The accuracy of churn prediction models matters and that just using one method rather than another  can easily amount to changes in profit in the hundreds of thousands of dollars .\n",
      "<Page:3>  We use customers’ anonymized call detail records as a way of modeling WOM . In contrast to traditional classification methods, we take into account the infor-heticalmation about who a customer calls – i.e., a customer’s neighbors in the communication graph derived  from the call detail record data . We interpret these graphs as social networks, which can be stored in a relational data model .\n",
      "<Page:4>  Statistical relational learning is a relatively young field and there is still only limited empirical evidence on the performance of respective learners . There are two fundamentally different approaches to analyzing multi-relational data . Markov logic networks (MLNs) have recently been suggested as a significant step forward in this field .\n",
      "<Page:5>  The prediction of customers’ churn or buying decisions is important to marketers . In this paper, we analyze whether WOM has an impact on customer behavior or not . The analysis is based on anonymized calling data from a telecom provider . We found the churn behavior of a customer’s neighbor has a significant positive impact on predictive accuracy of churn models .\n",
      "<Page:6>  Churn management is to determine the reasons for churn and to predict the potential churners . In the following section we discuss churn and the related literature on churn and WOM literature . There are different strands of literature that are relevant to this paper . There is also a relation between customer tenure and the tendency of customers to engage in word of mouth .\n",
      "<Page:7>  A huge body of literature has emerged on the analysis of social networks . We focus on post-paid customers, which allows us to leverage information about potential churners . The authors study the evolution of churners in an operator’s network of pre-paid subscribers and the pro-verselypensity of a subscriber to churn out of a service provider's network depending on the number of ties .\n",
      "<Page:8>  Statistical Relational Learning (SRL) has been an emerging research topic in the data mining community in recent years . We understand propositionalization as a transformation of multi-relational learning prob-lems into attribute-value representations . We discuss this approach in more detail in the next section .\n",
      "<Page:9>  ILP has traditionally dealt with multi-relational data . ILP tools can be applied directly to multi-referred data to find first-order rules from relational data . Markov logic networks (MLNs) have become very popular in statistical relational learning recently . In our analysis, we use Alchemy (http://alchemy.cs.washington.edu/), an open source software tool for learning MLNs from data .\n",
      "<Page:10>  There are two main approaches to propositionalization in the literature, logic-oriented and database-oriented literature . Business databases present different challenges than those found in the classical showcase areas of ILP and logic-based propositionalizations . Relational databases are usually structurally simpler .\n",
      "<Page:11>  A churner is defined as a customer who gives notice about their intent to cancel the contract and does not re-evaluate his decision by extending his contract at some point afterwards . A non-churner (or negative) is a  customer who does not give notice at any time . In our data, 6,800 customers told the phone provider that they wanted to cancel their contract (notification) Roughly 1,000 revoked their decision afterwards by extending their contracts .\n",
      "<Page:12>  Figure 1 (a) and (b) shows a visualization of connections be-tween positives and customers with a game download in the test data set . The graphs could suggest that game downloading is contagious because there are many connections between persons downloading                 games, while this is less so in the case of churn customers .\n",
      "<Page:13>  We split the set of 2,645 customers in training and test datasets such that it was stratified with re-naissancespect to the number of positives and edge counts . Training and test data contained 1325 and 1320 custom-ishlyers, respectively . Positives were assigned according to their notification date; customers who notified before July 1, 2008 were assigned to the training data .\n",
      "<Page:14>  Among the selected 3,000 customers there were 7,950 edges – 1,865 among positives, 2,127 among negatives, and 3,950 between both groups . From the 70 available customer attributes we selected the 32 best ones based on information gain with respect to the target variable .\n",
      "<Page:15>  MLN, classification is the problem of inferring the truth value of C(x,v) for all x and v of interest . In relational learning problems, dependencies between objects can be represented by relational predicates . In our example, churn of customer x would be considered independent of the churn of other custom-crafteders . We model an influence relationship between connected customers’ urchurn behavior saying that customer x is likely to churn if customer x did already .\n",
      "<Page:16>  A fundamental problem with database-oriented propositionalization has been referred to as degree disparity [25]. It describes the systematic variation in the distribution of the degree                 with respect to the target variable . A customer with a large number of neighbors would also have more churn neighbors than a customer with just a few neighbors . The difference among MLN settings is again the way in which connec-propriitionalization approaches are different .\n",
      "<Page:17>  The resulting models for the logistic regression (benchmark) as well as for all propositionalization settings showed that three groups of customer attributes were especially important . In the logit model, all but one variable about a customer’s utilized products were highly significant (<0.001) In contrast, for propositionalized settings T2.1-to-T2.4 we found only five significant customer attributes in the respective logit models .\n",
      "<Page:18>  Propositionalization settings with churn aggregates (T2.1 to T2.4) dominate all other settings,  apologetic and MLN settings . Sensitivity measures the proportion of true positives that are cor-rectly recognized as true positives . Specificity measures proportion of false positives correctly recognized as false positives . Table 1 presents the results for churn prediction .\n",
      "<Page:19>  The best propositionalization approach outperforms the best MLN model . Figure 2 shows the ROC curve of the three MLN settings and the logistic regression . The ROC is based on the proportion of true positives (TPR) vs. false positives (FPR) for every possible cutoff .\n",
      "<Page:20>  Propositionalization with churn rate aggregates (T2.1 to T2.4) has the highest overall sensitivity and accuracy, but MLNs yield comparable results for smaller samples . Both propositionalization and MLN clearly outperform the baseline model .\n",
      "<Page:21>  We were interested in ways how information about neighbors can help predict alternative target variables . We looked at game download, since people with game downloads appear to be well connected . Game download showed exceptionally many connections among the positives, suggesting that  there might also be an influence of customers on each other .\n",
      "<Page:22>  The overall accuracy and precision were again highest for the propositionalization settings T2.1 to T.2.4 and the three MLN settings T3.1 . All nine settings performed  better than the benchmark logistic regression, except for one attribute about the duration of the present contract .\n"
     ]
    },
    {
     "name": "stderr",
     "output_type": "stream",
     "text": [
      "Your max_length is set to 142, but you input_length is only 140. You might consider decreasing max_length manually, e.g. summarizer('...', max_length=50)\n"
     ]
    },
    {
     "name": "stdout",
     "output_type": "stream",
     "text": [
      "<Page:23>  Both propositionalization and MLN outperform the baseline model . The number of calls and voice minutes weighted did not have a strong effect . The impact of relational attributes was highly significant for predicting game download as well, but had a lower effect on sensitivity and the ROC curve compared to churn prediction .\n",
      "<Page:24>  Figure 5: Visualization of connections a) between negatives (without churn), b) from positives with game (squares) to negatives (triangles) and c (without game download) Figure 5 shows the connections between negatives and negatives (with churn) and negatives without churn . Figure 4: Churn: positives to negatives, negatives to negatives; game download: negatives only .\n",
      "<Page:25>  Churn positives are less common than customers with a game download in the sample . Overall, positives are much less connected in the churn sample than in the game download sample . If there was churn in the neighborhood of a cus-culartomer, this event was a powerful predictor for churn of this customer, as compared to game download .\n",
      "<Page:26>  Traditional discrete choice models do not allow the influence of peers through a social network to be modeled . We developed an MLN for churn prediction based on the anonymized data set of a mobile phone provider . We found this approach to provide even better results than MLNs in terms of increasing sensitivity of the benchmark logit model .\n",
      "<Page:27>  The book was written by W.-H. Au, K.C. Chan, X. Yao and S. Dzeroski . We would like to thank Florian Wangenheim, the anonymous associate editor and the reviewers for their                 valuable comments .\n",
      "<Page:28>  L. Getoor, B. Taskar, D. Mayzlin and D. Godes have written a number of articles on the topic of customer churning . Churn data mining techniques have been used to model churning patterns in the past . The study has been published in the European Symposium on Artificial Neural Networks in Bruges .\n",
      "<Page:29>  Decision Support Systems, 49(4) (2010) 474-485. [24] O. Hinz, M. Spann, Managing information diffusion in Name-Your-Own-Price auctions . [25] D. Jensen, J.-U. Kietz, J. Neville and M. Hay, Avoiding Bias when Aggregating Relational Data with Degree Disparity, in: Twentieth International Conference on Machine Learning (ICML-2003), (Washington, DC, USA, 2003).\n",
      "<Page:30>  Customers Churn: Stop it Before it Starts, Mercer Management Journal, 17(2004). [36] M. Kon, M.-A. Krogel, S. Rawles, F. Zelezny, P. Flach, N. Lavrac and S. Dzeroski .\n",
      "<Page:31>  P.A. Schweidel, P.S. Fader, E.T. Bradlow and J.R. Quinlan have written a number of articles on machine learning and customer retention models . P.J. Shaw, C. Subramaniam, G.W. Tan, M.E. Welge and M.C. Mozer have written numerous articles on the topic of machine learning .\n"
     ]
    },
    {
     "name": "stderr",
     "output_type": "stream",
     "text": [
      "Your max_length is set to 142, but you input_length is only 120. You might consider decreasing max_length manually, e.g. summarizer('...', max_length=50)\n"
     ]
    },
    {
     "name": "stdout",
     "output_type": "stream",
     "text": [
      "<Page:32>  P. Getoor, B. Taskar Eds. Introduction to statistical relational learning, (MIT Press, Cambridge, Mass., ,) 2007), pp. 93-129 . P. Sutton, A. McCallum: An Introduction to Conditional Random Fields for Relational Learning .\n",
      "<Page:33>  Figure 7: ROC curves of three MNL settings and the logistic regression for game download . Figure 8: Roc curves of propositionalization settings . Figure 9:  ROC curve of MLNs, propositionalized settings and logistic regressions . Figure 10:    The logistic reparation for game download is based on a logistic model .\n",
      "/mnt/c/nuvem/Dropbox/doutoramento/tese/SLRDropout/analysis/selected_articles/final_dataset/files/11397/Liu et al_2020_Micro- and macro-level churn analysis of large-scale mobile games.pdf\n",
      "<Page:1>  Mobile gaming has emerged as a promising market with billion-dollar revenues . A critical challenge is to understand churn behavior in mobile games . Churn behavior usually involves churn at micro level (between an app and a speciﬁc user) and macro level . We model this two functions by deep neural networks with a unique edge embedding technique .\n",
      "<Page:2>  The experimental results with this data demonstrate the superiority of our proposed models against existing state-of-the-art methods . $70.3 billion revenue was generated by mobile games in 2018 according to Newzoo’s Global Games Market Report [1] Mobile games are expected to generate $106 billion revenue in 2021, account for more than half of the overall game market .\n",
      "<Page:3>  A recommender can slightly adjust the position of recommended games before delivering to pre-emptive users . The macro-level churn ranking problem is intimately related to the micro-scale churn prediction problem . The method is fully automatic and can be easily integrated into existing mobile platforms .\n",
      "<Page:4>  The solution has been tested in Samsung Game Launcher, one of the largest commercial mobile gaming platforms . We propose a simple method SimSum and adapt two link analysis algorithms to solve the macro-level churn ranking problem . The model is able to embed new users or games not used in training . The paper mainly applies the solution to churn analysis in other contexts .\n",
      "<Page:5>  The relationship between players and games can be represented by an at-heticaltributed bipartite graph as illustrated in Fig.1 . In the sequel, we use the terms player and user, and game andapp interchangeably . We note that uninstall is diﬀerent from churn .\n",
      "<Page:6>  We propose a novel inductive semi-supervised model in dynamic graphs that jointly learns the prediction functionf and the embedding function g . The architecture of the proposed DNN is presented in Fig. 2, which consists of three parts . In the mobile game industry, play-goers and games change very quickly .\n",
      "<Page:7>  The overall objective function of our model consists of four parts: the unsupervised component, the supervised component, Part II, Part III and Part III . We propose a novel random walk to sample similar edges as contexts (see Section 3.4 for details). Part I handles the graph dynamics in training . Part III fulﬁlls the supervised churn prediction task from embedding featurevectors .\n",
      "<Page:8>  L denotes the unsupervised loss, which comes from failures of U.U.U-U-centric context inference and will be addressed in Section 3.2.1 . L is the temporal lossT thatconsistsoftwoparts:temporalsmoothness andtemporaldynamics, andwill be explained in section 3.1.2 . L represents the regularization of a regularization term, and (α, β, γ) are trade-oﬀ weights .\n",
      "<Page:9> erro\n",
      "<Page:10>  The longer a relationship exists, the longer the relationship, the more likely the user is to churn the game . This is because the content of a mobile game is usually somewhat somewhat somewhat ﬁxed . 95% of user-game play relationships end after 40 days, which well justiﬁes our findings .\n",
      "<Page:11>  Average mobile game retention rate as a function of time of time, weomittheﬁgurehere . It followssthatthetopologyandattributevaluesof the attributed bipartite graph mostly evolve smoothly attwo consecutive times-tamps, resulting in similar contexts for a given edge at consecutive timestamps .\n",
      "<Page:12>  An illustration of censored data by three randomly sampled player-game-game portions becomes unknown . Since the existence of edge (u,v) after t is unconfirmed, the existence is unknown . The temporal loss L is expressed as: (cid:107)hlp(z(i+1) + (12)glyglyglyT uv uv e uv 2glyi=t0(u, v) GlyglyTglyL: (glyglytgly) +glyglyL = (glygglytlyl) Glycglyglycglyclytglycryclyl, (glycilytglyxglycyl\n",
      "<Page:13>  A simple topology-based random walk may return two adjacent edges having the same player or the same game while ignoring the similarity of the similarity . In contrast, attributed random walk measures such similarity by attributes and allows to transit to similar nodes even if they're not connected .\n",
      "<Page:14>  The macro-level churn ranking is to provide a ranked list of games based on their total numbers of users to churn in the near future . We use the SimSumSum method to rank all games with an unbiased estimation of the ground-level Churnprobability of the game v .\n",
      "<Page:15> erro\n",
      "<Page:16>  In the algorithm, players with distinct tendencies of churn contribute diﬀerently to the computation of the game’s ranking score . The score will be propagated along with a dampingfactor from onegametoanothergame . The algorithm is weighted by the churn probabilities, where the players with larger churn probabilities are more likely to contribute .\n",
      "<Page:17>  We conduct a comprehensive experimental evaluation over the large-scale real data collected from the Samsung Game Launcher platform . We compare our semi-supervised model with the state-of-the-art models for mobile game churn prediction: LR: logistic regression based solution used in [17, 13, 9]– RS: supervised variant of our model, DT: decision tree based solution, RF: random forests based solution .\n",
      "<Page:18>  The SimSum, PageRank and HITS methods are evaluated on the test datasets . 18 X.Liuetal-Georgian-Semi-supervised model along with SimSum and PageRank are evaluated . The regularization parameters {λ }4 are all set to be 1.2.4aresettobe1,1,and0.05,respectively . The maximal number of iterations M for the PageRank is set to 100. The Dampingfactor for PageRank issettobe0.85.\n",
      "<Page:19>  We use three widely-used evaluation metrics to compare the performance of micro-level churn prediction models . The most important metric with respect to the business goals is the area under the ROC curve (AUC) Our model achieves the best AUC and recall on both datasets .\n",
      "<Page:20>  SS outperforms RS in general under diﬀerent numbers of epochs and for both Korean users and USA users . SS is neither over-over-supervised nor unsupervised, we expose more details on how we choose the parameters and train the model . We experimentally test learning rates between 0.1 and 0.001 to converge slowly to the optimal point .\n",
      "<Page:21>  We try two training methods: co-train and alternative train . Co-train means that we simulta-ishly train the supervised loss function and the unsupervised loss function . Alternative train is a widely-used training method for similar structures[21,20]\n",
      "<Page:22>  We use Kendall’s Tau correlation coeﬃcient, weighted rankings and Spearman correlation . We compare the performance of these two methods to the results of micro-level churn-prediction . Each performance metric is experimentally evaluated on the same test datasets described in Section 4.1 .\n",
      "<Page:23>  Figure 10. Comparison of Kendall’s Tau correlation coeﬃcients in testing under the macro-level churn ranking and micro-level . churn prediction methods . Table 10.1 shows the results of the study using Kendall's Tau correlation ranking and a page-rank ranking .\n",
      "<Page:24>  SimSum Weighted Kendall’s Tau on                rea.u.uu.C.Kendall’STauonKo- Researchers. 24 X.Liuetal X. 24 . Liuetal: Charts of churn ranking and micro-level churn prediction methods .\n"
     ]
    },
    {
     "name": "stderr",
     "output_type": "stream",
     "text": [
      "Your max_length is set to 142, but you input_length is only 124. You might consider decreasing max_length manually, e.g. summarizer('...', max_length=50)\n"
     ]
    },
    {
     "name": "stdout",
     "output_type": "stream",
     "text": [
      "<Page:25>  Spearman correlation coeﬃcientonKorea tests under diﬀer-ishly-regulated macro-level churn ranking and micro level churn prediction methods . PageRank SpearmanCoe﬉cientonUSA rea. rea                 rea                                                                   Churn Analysis of Large-Scale Mobile Games 25                                                       “Churn analysis of large-scale mobile games” is based on Spearman.\n",
      "<Page:26>  Figure 13. 26 X.Liuetal: PageRank Average Precision at K on (f)PageRankAveragePrecisionatKonKo-USA rea.u.KonKorea (d)HITS AveragePrecision atKon.USA) PageRank average Precision at . K in testing under . diﬀerent macro-level churn ranking ranking and micro .level churn prediction methods .\n",
      "<Page:27>  We evaluate the performance of diﬀerent churn ranking methods by using metrics in the recommendation domain . Precision at K corresponds to thepercentage of relevant results in the top K games of the ranked list . A game at a certain position i in a ranked list is considered relevant if it is in a top i game . Table 5 shows the results based on the methods in terms of MAP .\n",
      "<Page:28>  There are several recent deep-learning-based studies [33, 34, 35] for non-game churn-prediction problems, which report better performance . We propose to reuse the estimated churn probabilities of the micro-level churn prediction task to reduce the overhead . While being a generic solution, our model is able to accommodate the unique characteristics of mobile gaming . We provide a comparisonison betweenallexistingworksandours in Table6.\n",
      "<Page:29>  In our problem new users and new games appear continuously; new relationships between existing users and games mayform any time at any time . We propose a novel inductive semi-supervised model for large-scalemicro-level gamechurnprediction . The model captures graph dynamics by simultaneously capturing contexts and graph dynamics . We modeled the prediction function and the embedding function by deep-scale networks .\n",
      "<Page:30>  Mobile revenues account for more than 50% of the global games market as it reaches 137.9 billion in 2018 . The findings could be modeled in a similar way, for instance, customer disengagement prediction in membership business (e.g., Apple Music, Costco, and insurance companies) and interest group unsubscription prediction in social networks .\n",
      "<Page:31>  Aims to measure player retention and monetization in free-to-play games with highly biased data . “Asemi-supervised learning with graph embeddings” is discussed in the journal of the ACM (JACM) 46.5 (1999) “Authoritative sources in a hyperlinked environment”. “SEANO: “Semi-Supervisedembeddinginattributednetworkswithoutliers”\n",
      "<Page:32>  Researchers from Texas A&M.University and Samsung Research.com discuss deep-learning machine learning and deep-reinforcementlearning. The study was published in the journal International Research.JournalofEngineeringandTechnology(IRJET)4.3(2017),pp.1846–1854 .\n",
      "<Page:33>  Xidao Wenisa Ph.DcandidateatPITTComputationalSocialSci- Researchers at University of Pittsburgh . His research interests include data mining, machine learning and machine learning . He has published more than 40 technical papers in top venues, including CSUR, VLDBJ, PVLDB, and IEEETKDE . He received the ICDM-2011 Best Research Paper Award, Excellence in Academic Research at Rutgers University in 2013 .\n",
      "<Page:34>  Nick Duwice received a BA in Natural Sciences in 1982 and an MMath in 1983 from the University of Cambridge, UK, and a PhD in Mathematical Physics in 1987 . Na Wang received her M.S. and Ph.D. degrees in Information Sci-ences and Technology from the Pennsylvania State University . She is currently a Software Engineer at Samsung Research America .\n",
      "/mnt/c/nuvem/Dropbox/doutoramento/tese/SLRDropout/analysis/selected_articles/final_dataset/files/11402/Kaya et al_2018_Behavioral attributes and financial churn prediction.pdf\n",
      "<Page:1>  Erdem Kayaetal. and ZiaowenDong, Xiaoowen Dong, YoshihikoSuhara, SelimBalcisoy,Selim Balcisroy, BurcinBozkaya and Alex “Sandy’Pentland’s’. E.Kayaetel.”“Churnprediction” has attracted greatattention from both the businessand academic worlds .\n",
      "<Page:2> erro\n",
      "<Page:3> erro\n",
      "<Page:4>  EPJDataScience: The spatio-temporal and choice models utilized in this paper can also be used to churn prediction problems of other domains such as telecommunication in-repredustries . The paper provides insights into the psychology and economics of credit card transactions, money transfers, and electronic fund transfers .\n",
      "<Page:5> erro\n",
      "<Page:6> erro\n",
      "<Page:7>  There exists numerous deﬁnitions of customer churn in the literature . By adopting the bank’s de-nition of churn, we developed a set of de-churner-sponding labels . For example, a cusus-based order of the inactive order of each customer based on a non-pertaining to the rules of the customer .\n",
      "<Page:8>  EPJ DataScience: The results reported in this study are based on the churn deﬁnition inac-full . The data sets were so large that we decided to use 8-fold cross-validationforevaluation . We used SVM-SMOTE[39] withtheratio of 0.25, the average credit card transaction was $1.25 .\n",
      "<Page:9>  Around 40–.50thousandcustomersalongwith1.9to3.3milliontransactions have been considered . The resultsremainsigniﬁcant even for11dif-ferentde﬉nitionsofchurn, andvariousversionsofthedatasets .\n",
      "<Page:10>  EPJDataScience: Areaunder ROCcurvemetriccomparison ofdemographicfeatures, STCbehavioralfeatures, and the.ypecombinationofbothfeaturesetsforeachofthedatasetversions . The.comparisons performedforthelabelabelinac-full. The lengthoftheerrorbarcorrespondsto1.0 standarddeviation.p∗∗ . The results were very similar .\n",
      "<Page:11>  EPJDataScience: FeatureImportanceAnalysis. It is notablethattheeducationalstatuses, high, andmiddleschool were foundtobeimportant in this order . The average number of college students who have higher-than-despirited grades and high-preferred college degrees is found to be higher than the average college student .\n",
      "<Page:12>  EPJ DataScience: Churnpredictionperformancebasedongenderandagegroups . College, and masters,comprising about12–13% of allthecustomers, are not considered . College and masters students are considered in the study . Churnersseemtohaveincreasingloyaltyandde-recreasingdiversitytrendtowardsthetimetheydecidetochurn .\n",
      "<Page:13> erro\n",
      "<Page:14> erro\n",
      "<Page:15> erro\n",
      "<Page:16> erro\n",
      "<Page:17> erro\n",
      "<Page:18>  EPJ data science: EpJ: Thecurse ofimbalanced-learn:aPythontoolboxtotacklethecurseofimbalanceddatasetsinmachinelearning.coRRabs/1609.06570http://arxiv.org/abstract.com/gourere/Goure.org: The case is presented in EpJ DataScience .\n",
      "/mnt/c/nuvem/Dropbox/doutoramento/tese/SLRDropout/analysis/selected_articles/final_dataset/files/11406/Mitrovic et al_2018_On the operational efficiency of different feature types for telco Churn.pdf\n",
      "<Page:1>  On the Operational Eﬃciency of Diﬀerent Feature Types for implementing Telco Churn Prediction: FeatureEngineering, FeatureTypeClassiﬁcation,OptimalFeatureTypeCombinations,OperationalE﬉ciency,ChurnPrediction,Pareto.-Multi-ObjectiveOptimization, Paretomulti-criteriaoptimization .\n",
      "<Page:2>  Churnprediction(CP) is probably the mostfrequentlytackledpredictivetaskinthetelecom-municationindustry . Many diﬀerent approaches have been used in recent studies . The mostimportant driver for this study is that none of the existing studies discusses the resource ef-privilegedtodataavailability,datacollection, feature engineering, featureengineering, time and model evaluation .\n",
      "<Page:3>  Onlinereal-time CP is becoming more and more important (Diaz-Aviles et al., 2015). The OE/PP trade-oﬀ becomes imperative . The key contributions are threefold: a new feature type classiﬁcation; 2) a novel reusable methodology for determining optimal feature type combinations .\n",
      "<Page:4>  The paper is organized as follows: in Section 2, we provide an overview of related work . Section 3 introduces the methodology with Section 4 detailing the experimental experimentalsetup . In Section 5,wepresent results, whicharediscussedin Section6, before the paper is concluded in Section7 .\n",
      "<Page:5>  There are several studies that compare diﬀerent feature types on PP . However, the comparison scope is typically limited to a strict comparison between feature types or their combination as well . Other studies disagree on the importance of feature types’ importance . This is an excellent motivation for analyzing the impact of feature type on PP at a higher level .\n",
      "<Page:6> erro\n",
      "<Page:7>  The most thorough study on the OE/PP trade-oﬀ is, looking into several PPMeasuressuchasaccuracy,AUC,precision,preision,recall,meanabsoluteerror, and test time . However, the study does not take into account resources needed for feature engineering (OEOE)\n",
      "<Page:8>  A number of alternatives to Pareto optimization have been proposed as well . These include the lexicographic method, where each of the objective functions is optimized separately (one at a time) and thecalarization method . We deem the strategies inconvenient for CT/AUC trade-oﬀ since they not only require an a priori assumption of a priora assumption of objective preference and a convex search space, but also provide a single solution that cannot properly balance diﬁerent objectives .\n",
      "<Page:9>  A distinction is made between features using the most recent data and features using older data . Local and network features are exploited, distin-guishing between local and network . We further categorize network features into direct (simple) and indirect (complex) features . Since bothnodede-walletgreeinformationandRFM(Recency-Frequency-Monetary)features(Huges,1994)features are considered indirect features .\n",
      "<Page:10>  With RFM, we account for recency of calls, number of calls and monetary value of calls per customer within a certain period of time . In order to capture more detailed infor-                mation, in the ﬁnal list of features each of the RFM (and degree-related) features areassessedinseveraldiﬀerentﬂavors,alongfollowingdimensionsfortheobserva-tionalversion .\n",
      "<Page:11>  Thedeﬁnitioncolumnexplainsthenatureand purposefully originofdiﬀerentfeaturetypesandassuchcan beappliedtoanytypeofdataset(evenbeyondthe typeofdatatomain) Feature Type Deשּׁ�Name: Local Features that characterize indi- gender; number of reloads; handset characteristics (e.g. traditional) National Features calculated from the number of incom-insured direct Engi- customer ego-network (1-level ing/outgoing toward a neighbourhood) across di-erent home operatorcalls in di�Aerent homeoperatorcallsin various dimensions/granularities month\n",
      "<Page:12>  The main goal of this work is to develop a method that can identify feature types(orcombinations) whichprovid the bestCT/AUC trade-oﬀ . Pareto multi-objective optimization takes into account the trade-Oﬁ between the trade and objectives of the task .\n",
      "<Page:13>  Givenobjectivefunctions  𝑓,    - �,𝑖∈𝐼;  𝓓(�) is called the multi-objective optimization task . Wesay that asolution  isadominating reformative solutionover𝑧2 if  “betterthanitinatleastone’sobjective and not worse in all other objectives.” The set of allParetooptimal solutionsiscalled theParetoset .\n",
      "<Page:14>  The algorithm is based on a collection of diﬀerent feature type sets . It starts from thenon-dominatedsolutionsthatarefoundinpreviousiterations . The cardinality of feature types per iteration  is exactly one feature type higher than the current one .\n",
      "<Page:15>  Every feature type combination is evaluated in terms of CT and AUC . Logisticregression(LR)without regularizationand RandomForests(RF)are used formodelconstruction . Both LR and RFare well establishedmeth-insuredods and have been successfully applied in previous studies on CP .\n",
      "<Page:16> erro\n",
      "<Page:17>  Data and tools wereperformed using two data sets . CDRscon-taintain information about customer calls (no SMS or other usage types), in the form of: caller,callee,date/time,callduration . For prepaid customers, we have information about the lastrecharge and the amountspentonvoiceandSMS during theobservedmonth . For postpaid, themonthlysnapshotforported-outcustomers is provided as well .\n",
      "<Page:18>  Theobtainednetworkisusedtocalculatedirectnetworkfeatures . Edgeweights areassigned basedonthetotalnumberofcalls between two nodes, for theﬁrst, andtotalduration(thatis, totalnumberofseconds)ofthecalls . The network is weighted networks with approximately.5millionedges and 2.8millionofnodes .\n",
      "<Page:19>  Wealsocalculated(twoversionsof) personalizedPageRankscores based on onexponentialtimedecays(tofavormorerecentchurndatesfromthe,)lessrecentones) We are trying to predict who will churn in month M for the customer base of month M . The exact numberoffeaturesperfeaturetypeperdatasetcanbeseeninTable3 .\n",
      "<Page:20>  To avoid multi-collinearity, Chi-square and Spearman correlation tests were applied to all pairs of categorical and continuous features . As a result, several features (mostly related to handset char-otypesacteristics, butalsopersonalizedPageRankscores) wereeliminated .\n",
      "<Page:21>  RF and LR provide diﬀerent results in terms of AUC per combination . Optimalsolutions for LR and RF share the following three-problems: L, ND-E, HLNT-NE, HNNTD-E and                HLT-E . However, therearenolineardependencies between the two solutions .\n",
      "<Page:22>  Figure4: Theshortlistedsolutionsfortheprepaiddataset and theirperformanceinCT(relatively)to the CT obtained using all features . AUC scores of other optimal solutions at the 95% conﬁdence level (see) Table C.10 and Table C .11 in Appendix C . Similar as with prepaid, a mixture of localandobservationaldirectnetworkfeatures scores better in AUC .\n",
      "<Page:23>  Figure5: Theshortlistedsolutionsforthepostpaiddataset and theirperformanceinCT obtained using all features; 𝑥-axis) and AUC (𝑦) obtained applying LR (top) and (bottom) Figure 5: Theoptimalsolutionsaremarkedwithredﬁlledcircles/squares whilethedominatedsolutionsareblueemptycirclecles/sqares for LR/RF,respectively . Figure 6: Figure 6 for prepaid RF and Figure 7 for postpaid RF(duetobetterAUCscoresweexplainRF resultsin more detail)\n",
      "<Page:24>  Only ten diﬀerent features are retained for all four Pareto optimaloptimalsets . Local and direct network features seem to be of crucial importance for prepaid RF . Only features of four feature types remain in the ﬁnally retained feature sets: L, HLNT-NE,ND-E, HNNTD-E .\n",
      "<Page:25>  For postpaid RF, in total 18 diﬀerent features are retained, of which: six local-centric, threelocalhistorical, sixdirectnetwork(observational) and sixdirect network(observed) The feature lifetime in days (∞) appears in all of the feature features .\n",
      "<Page:26>  We basedourapproachonRFM(already successfullyappliedintheCP domain(Benoit&VandenPoel, 2012;Coussement.& De Bock, 2013; Modani et al., 2013) Page Rank scores (also used in (Huang.e.etal., 2015) and other measuresinspiredbyBaesensetal.(2015) However, we are aware of several allimitations whichledtolowerAUCscoresthanusually reported in the CP studies .\n",
      "<Page:27>  We propose novel, reusable method for determining optimal solutions, based on Pareto multi-objective optimization . The method re-quiresnoaprioripreference betweenconﬂictingobjectives, while it stillallowsfor making aninformeddecisionbasedonthePareto-optimalsolutions . The obtained results demon-ishlystrate that the choice of modelling technique matters .\n",
      "<Page:28>  The right approach for choosing feature types for CP would be to start small, using (good quality) local features and the least complex network features . We observe that investing in certain more complex feature types like trends and indirectnetworkfeatures does not payoﬀintermsofPP .\n",
      "<Page:29>  Researchers: Customer churn prediction in gambling industry: The beneﬁcial eﬀect of ensemble learning . The research was published in the journal of the European Journal of Operational Research, which is published by Springer . The study was published by the journal ACM.com .\n",
      "<Page:30>  Diaz-Aviles, E., Pinelli, F., Lynch, K., Gkoufas, Y., Bouillet, E. Bouillet and Bouillet . Cal-abrese,F.,Coughlan,E.,Holland,P., & Salzwedel,J. (2015) Towardsreal-time customer experience prediction for telecommunication operators. In Big Data(BigData),2015IEEEInternationalConferenceon(pp.1063–1072).\n",
      "<Page:31>  Analysing customer attribute and social network mining for prepaid mobile churnprediction . In Proc. the 23rd Annual Belgian Dutch Conference on Machine.Learning(BENELEARN) (pp.50–58) The PageRank citation citation ranking: Bringingordertotheweb.. TechnicalReportStanfordInfoLab.\n",
      "<Page:32>  Verbeke, W., Dejaeger, K., Martens, D., & Baesens, B.G. (2010). Customer churn-drivenprediction: doestechniquematter? InProceedingsoftheJointStatisticalMeet-Likeing,JSM2010,Vancouver, Canada .\n",
      "<Page:33> erro\n",
      "<Page:34>  TableA.6: Resultsfor ‘shortlisted’featuretypecombinationsobtainedwithLRforpostpaiddataset.computership computation has computation has been used for two 64-bit processors at two 64GB of Intel processors working at two.2, 3.3GHz withcoresores .\n"
     ]
    },
    {
     "name": "stderr",
     "output_type": "stream",
     "text": [
      "Your max_length is set to 142, but you input_length is only 88. You might consider decreasing max_length manually, e.g. summarizer('...', max_length=50)\n"
     ]
    },
    {
     "name": "stdout",
     "output_type": "stream",
     "text": [
      "<Page:35>  FigureB.8: Retainedfeatures(intheLRmodel)forParetooptimalfeaturetypecombinationsfortheprepaiddataset . The feature typecombinationsaresortedbyincreasing order of AUCperformance(fromlefttoright)\n",
      "<Page:36>  Preferred with LR, prepaid with RF, prepaid with RF and postpaid with LR and RF . Postpaid withLR and RF were pre-loaded with RF . Preferred LR was preloaded with LR; RF was paid with RF; prepaid with LR . Preloaded withLR, RF was pre-paid and pre-depended with RF. Prepaid withRF was prepaid withLR; Prepaid and RF with RF were prepaid .\n",
      "<Page:37> erro\n",
      "/mnt/c/nuvem/Dropbox/doutoramento/tese/SLRDropout/analysis/selected_articles/final_dataset/files/11408/Oskarsdottir et al_2018_Profit-Based Model Selection for Customer Retention Using Individual Customer.pdf\n",
      "<Page:1>  Proﬁt based model selection based on model selection using individual customer lifetime values . Maria Oskarsdo´ttir, Bart Baesens and Jan Vanthienen are the authors of the study at KU Leuven and the University of Southampton .\n",
      "<Page:2>  The goal of customer retention campaigns, by design, is to add value and en-hance the operational eﬃciency of businesses . For organizations that strive to retain their customers in saturated, and sometimes fast moving, markets such as telecommunications and banking industries .\n",
      "<Page:3>  In the case of customer churn prediction (CCP), including a person who is not likely to churn in a retention campaign, will not aﬀect the company very much, while failing to identify a potential potential churner will causelosses . The state-of-the-art Maximum Proﬁt (MP)3 and Expected Maximum Pro-\n",
      "<Page:4>  Customer Lifetime Value (CLV) is deﬁned as the present value of all the future cash attributed to a customer’s relationship with an organization . The EMP measure, as proposed by Verbraken et al., assumes a ﬁxed and equal CLV for all customers . In this paper, we introduceceanewwayofincorporating customerheterogene-genicity in the earlier introduced EMP measure by allowing the CLV to vary on a subject basis .\n",
      "<Page:5>  We apply boot-strap techniques to help distinguish between good and bad models . We apply our techniques to two real life datasets and benchmark datasets using six distinct classiﬁcation techniques . We discuss the usefulness of our approach, compared to the standard EMP measure . Since our method takes into account the variability of the customer base, it has the ad-vantage over the traditional EMP measure to provide a range in performance .\n",
      "<Page:6>  Proﬁt based model selection with individual CLV models . Table 1 shows a confusion matrix resulting from suchaclassi ﬁer, withacutoﬀt. Inthismatrix, N denotes the population size, π0 and π1 the prior probabilities of classes 0 and 1 and the cumulative distribution functions of the scores for both classes. Then,inthematrix,Nπ0F0 representssthenumber of actual churners and Nπ1F1(t) the number of actual.non-churners classi.i﬉ed incorrectly as churners .\n",
      "<Page:7>  Proﬁt based model selection with individual CLVthattheAUCisanincoherentmeasure ofaggregatedclassiשּׁ�cationperformanceperformance . Hand proposed the H-measure, which minimizes the ex-expectedlossofaclassi ﬁer,ortheaverageclassi-cationloss, given by the function 'glyglyglyphobicQ(t,c,b)')'H'measure is an alternative to the H measure . Verbeke et al. proposed the maximum pro﬉t measure as an alternative .\n",
      "<Page:8>  Proﬁt based model selection with individual CLVvalue (CLV) The probability that the retention oﬀer has a negative e-ect is considered negligible . N is the total number of customers and A the cost of administrative costs . The value of EMP can be computed using an empirical convex hull .\n",
      "<Page:9>  Proﬁt based model selection with individual CLV customer churn is given by a pro-propro-profusion factor . The fraction is an advantageous side-oﬀ product of the EMP measure . The top decile lift is commonly used for customer churn models as it compares the ratio of churners in the the 10% of customers with the highest predicted probabilities to the ratio in the actual customer base .\n",
      "<Page:10>  There are numerous challenges of computing and using CLV, with many issues and various components that aﬀect those issues . McCarthy et al. proposed a novel way to derive, predict and validate the variance of CLV using a combi-centricnation of stochastic models .\n",
      "<Page:11>  The type of customer base we consider in this study is contractual and con-tinuous and the relationshipisfurthermoreviewed as ‘lost-for-good’ The most common way to compute CLV is by using variables of Recency-Frequency-Monetary (RFM) variables .\n",
      "<Page:12>  In the EMP measure, γ represents the fraction of customers who accept the retention oﬀer . We use the latter understanding of the parameter γ to .derive a distribution of EMP values . Let CLV be a vector of N lifetime values of customers of a given company .\n",
      "<Page:13>  We compute separate EMP values for each instance in                thevectoroftheCLV . Each individual value is not meaningful, since EMPisameasure of the classiﬁer’s performance,buttogainfurtherunderstanding of the EMP values . The distribution of EMP values can be studied using either the maximum likelihood method or the beta distribution .\n",
      "<Page:14>  To obtain a vector of CLV for the customers, we draw a sample of size N. from the distribution β0(α,β) distribution . This sample represents the customer base as a whole, not each individual in the dataset . The bootstrap methods can be used to estimate conﬁdence statistics of the EMP vector .\n",
      "<Page:15>  We build churn prediction models following the binary classiﬁers logistic regression (LR), deci-ariesion trees (DT) and random forests (RF) These classi-referred methods were chosen because of their popularity in both academia and industry .\n",
      "<Page:16>  The Bank and Telco datasets contain rich enough information to estimate CLV and distribution parameters . The Telcodatasets were viewed as the historical information about the customers and used as attributes to predict churn in the last three months . When applicable, models were trained using a 10-foldcrossvalidationonthetrainingsettotuneparameters .\n",
      "<Page:17>  In the case of Telco, the CLV was computed with data from the last three-month contract information from the telecommunication provider . For post-paid contracts, the monthly subscription fee is e15, and includes un-insurednumberoftextmessages and120minutesof phonecalls .\n",
      "<Page:18>  The parameter estimates can be used as a reference by telecommunication providers that wish to evaluate their churn prediction models using EMP . In general, thereislesstraﬃcintheprepaidcasewhich explains the diﬀerence in the estimate for α .\n",
      "<Page:19>  Table 5: Comparison of the performance measures. Proﬁt based model selection with individual CLV . We used the computed vector of CLV to compute EMP and retrieve EMP and its mean and median value, as seen in the ﬁfth and sixth columns of the table. Thevariousperformancemeasuresintable5donotagreeonthebestmodel.\n",
      "<Page:20>  Proﬁt based model selection with individual CLV is based on model selection . Table 6: Comparison of measures when EMP is applied on new datasets . The method can still be applied in cases when CLV cannot be computed, for example when the appropriate data is not available . The highest value for each performance measure within the dataset is under the best one, at least the 95% level .\n",
      "<Page:21>  XGB seems to perform the best overall but the ranking of the methods beyond that is not consistent . The EMP values tend to show very little discrimination, especially in datasets D1,D2,D3andD5 . Figure 3 shows a combination of a box and scatterplot for ﬁve of the six performance measures in table 6 .\n",
      "<Page:22>  The EMP measure provides a way to assess the proﬁtability of a retention campaign, but with the disad-uvevantage of assuming equal customer lifetime values . Figure 3: Box- and scatterplot showing the correlation among the performance metrics . Managerial implications for businesses that target the most likely churners are an essential part of their operations .\n",
      "<Page:23> erro\n",
      "<Page:24>  Proﬁt based model selection with individual CLV overlap with the limits of the LR and DT models . We conclude that RF model performs better than the other two models . Although LR performs badly, the performance is not necessarily diﬀerent from the other three models .\n",
      "<Page:25>  Figure 4: Conﬁdence intervals for median β0 together with model performance metrics measured in AUC (stars) and top decile lift (triangles) for data set D5.6 Conclusion: Measuringtheperformanceofcustomerchurnpredictionmodelsisanimportant task .\n",
      "<Page:26>  An extension of measuring EMP can be used to distinguish actual separation in perfor-orative separation between two models . It can aid in selecting the best performing model for deployment in customer retention campaigns . By taking into account the variability in CLV, it focusesontheheterogeneity of customersasiscompliant with modern businessanalyt-centricics .\n",
      "<Page:27>  The datasets do unfortunately not contain ground truth about the estimates, it is diﬃcult to estimate their accuracy . The addition of such information wouldbeaninterestingextensionofthisresearchandprovidevalu-                able insights to the model selection process . Proﬁt based model selection with individual CLV models .\n",
      "<Page:28>  Pro-proﬁt based model selection with individual CLVsures,” European Journal of Operational Research, vol. 238, no. 2, pp. 505–513, 2014. Pro-Pro-pro-propro-ejective-based feature selection and svm classi-classi-cation in credit scoring,’ Deci-Review: Available at SSRN 2739475 .\n",
      "<Page:29>  Pro-proﬁt based model selection with individual CLV model selection . Pro-Pro-pro-proper analysis of customer lifetime value models. Pro-performable models for customer-base analy-driven models. A. Fader and G. Hardie, “Probability models for customers-base analysis.” Journal of interactive marketing, vol.16, no.2, 2002. P.H.Davenport, J.Harris, and J.Shapiro, ‘Competingontalentanalytics.’\n"
     ]
    },
    {
     "name": "stderr",
     "output_type": "stream",
     "text": [
      "Your max_length is set to 142, but you input_length is only 30. You might consider decreasing max_length manually, e.g. summarizer('...', max_length=50)\n"
     ]
    },
    {
     "name": "stdout",
     "output_type": "stream",
     "text": [
      "<Page:30>  Proﬁt based model selection with individual CLV models . B. Jackson, B. Efron and R. J. Tibshirani, C. Pendharkar, “Genetic algorithm based neural network approaches for predicting churn in cellular wireless network services .\n",
      "<Page:31>  Proﬁt based model selection with individual CLVsestraat 69, 3000 Leuven, Belgium.31.31, is a model of a car with a price tag of up to $1,800 . The model is based on the size of the car, with prices starting at around $2,800 a year .\n",
      "/mnt/c/nuvem/Dropbox/doutoramento/tese/SLRDropout/analysis/selected_articles/final_dataset/files/11411/Zhu et al_2018_Benchmarking sampling techniques for imbalance learning in churn prediction.pdf\n",
      "<Page:1>  Many data-level sampling solutions have been developed to deal with this issue . In this paper, we comprehensively compare the performance of several state-of-the-art sampling techniques in the context of churn prediction . The impact of sampling methodsdependsontheusedevaluationmetric and the impactpatternisinterrelated with the classiﬁers .\n",
      "<Page:2> erro\n",
      "<Page:3> erro\n",
      "<Page:4> erro\n",
      "<Page:5> erro\n",
      "<Page:6>  Figure 1 presents the dynamical process of customer churn and retention . In the retention process, a fraction aof the current customers with the highest churn propensities are targeted and offered some incentive . There are true and false would-be churners within the target customers . Figure 1: The dynamic process of launching a retention program is in﬉uenced by the customers’ churn propensity .\n",
      "<Page:7> erro\n",
      "<Page:8>  Features with highest Fisher scores on the four above mentioned data sets are re-tained and thenumber ofvariablesinthesedatasets is reduced to 30. jx¯ (cid:0) jFisherScore= √c nc (3)\n",
      "<Page:9> erro\n",
      "<Page:10> erro\n",
      "<Page:11>  We used the Holm’s post-hoc procedure to further explore the statistical difference . When MP is used, the LB strategy signif-uablyicantly outperforms the other two strategies . When AUC and top-decile are considered, LB sampling outperformsthe PBstrategy .\n",
      "<Page:12>  The non-sampling strategy achieves the best results with both AUC and top-decile lift . SMOTE-ENN may haveasmallimprovementwhentheMPmeasureisconsidered. The results indicate that sampling.121212 is not the best method for the top ranking methods .\n",
      "<Page:13>  We further investigate the results of each individual measure . ROS is the best performing sampling technique when using AUC . For top-decile lift, SMOTE-Tomek and ROS are the top two methods . Random under-sampling methods show their superiority when using the MP measure .\n",
      "<Page:14>  An important novelty of our paper is that we introduce the MP measure into our experimental comparison . This metric gives us signiﬁcant rankings of sampling methods . C4.5 decision tree presents totally different reaction patterns with the three evaluations measures . Mostsamplingtechniquesimprovetheperformancemeasured by AUCandRUSisthe best optioninthissituation .\n",
      "<Page:15> erro\n",
      "<Page:16> erro\n",
      "<Page:17> erro\n",
      "<Page:18> erro\n",
      "<Page:19> erro\n",
      "<Page:20> erro\n",
      "/mnt/c/nuvem/Dropbox/doutoramento/tese/SLRDropout/analysis/selected_articles/final_dataset/files/11415/Garcia et al_2017_Intelligent data analysis approaches to churn as a business problem.pdf\n",
      "<Page:1>  The use of intelligent data-based analysis,ordatamining,fortheanalysis of marketsurveyed information can be of greatassistance to churn management . This is preceded by an in-depthdiscussion of churn within the context of customer continuity management . The research was partially supported by SpanishMINECOTIN2012-31377 research project .\n",
      "<Page:2>  DavidL.Garcia: Churn management may be a competitive advantage in some markets . He offers a review of churn analysis applications of IDA techniques reported in recent academic literature . He also provides an overview of the four stages of the mining process for building predictive models of abandonment . The management of the management of customer loyalty and customer continuity management is discussed .\n",
      "<Page:3>  Many companies shift target from capture of new customers to the preservation of existing ones . This struggle for achieving customer loyalty collides with the grinding exposure to competitors . Customers’ market awareness is constantly on the increase and, as a result, so are their expectations . The creationofloyaltybondsincustomers requiresasystematicapproach toitsmanagement .\n",
      "<Page:4> erro\n",
      "<Page:5>  It is not possible, given the high cost involved, to ask all customers for their opinions on the service they are being oﬀered and/or their level of bonding . Companies must have a reliable prediction model (adapted to market research and based on behavioural information gathered by the company) that allows them to identify -with enough anticipation- those clientsthat showsymptoms of propensity to churn .\n",
      "<Page:6>  The designand development of a predictive model of supplier abandonment (customer abandoning the supplier) will then be summarily organized in Section 3.2 and the Appendix in the form of tables created according to two main grouping criteria . The last three stages of this process form a cycle that is completed only if and when adequate prediction results are achieved . We will now take a closer look at each of these stages in turn .\n",
      "<Page:7>  Decision trees (DT), regression analysis and neural networks (ANN) are the most commonly used modelling techniques used in the area of abandonment prediction . In more recent years new methods such as support vector machines (SVM) have proven their adequacy [17, 13, 106] The next stage of predictive model development involves the choice of the most suitable methods and techniques for building such model .\n",
      "<Page:8>  An important factor when considering the practical use of ANN is that they do not necessarily uncover patterns in an easily understandable and interpretable form . Support Vector Machines: This ML method, based on statistical learning theory, is able to optimally separate two class of objects (e.g., churners and retained customers) through the generation of a multivariate maximally separating hyperplane . SVMs have been widely used in recent studies due to a lower number of controlling parameters and good generalization capability [12, 40]\n",
      "<Page:9>  We have compiled the reviewed literature in a number of detailed summary tables: 2 to 14 . They list the main references in recent literature (roughly over the last 15 years) and including mainly peer-reviewed journal publications . The main criteria are organized according to the main criteria: According to the predictive methods used: 2, 3 and 4 for standard techniques used; 5, 4, 7 and 8 for alternative ones; 9 and 11 (banking, telecommunications, and other areas of application)\n",
      "<Page:10>  A selection of diﬀerent data requirements and motifs for the analysis of churn can be drawn from recent literature . Data on customer usage have also been used to identify the behaviour of website-using customers [46] and to predict repeat purchasing by mail [94]\n",
      "<Page:11> erro\n",
      "<Page:12>  The investigation of stage 2 of the prediction model building process provides a mixed picture in the reviewed literature . Many studies do not even con-ishly consider attribute selection, while others justify the selection not on the quantitatively demonstrated impact of the data on the prediction, but, instead, on domain knowledge .\n",
      "<Page:13>  The most recent publications of churn analysis in banking seem to be paying adequate attention to this issue . There are still too many papers with either no attribute selection at all or a selection-based only on expert and domain knowledge . The majority of the reviewed publications have used quantitativequantitativeselectionmethods .\n",
      "<Page:14>  Churn Analysis Modelling and Prediction (CHAMP) also uses DTs to predict customer churn in the telecommunications industry . Logistic regression and DTs were later used in [76] to forecast credit card customer defection, reporting a better performance of DTs . DTs have also been successfully applied in recent years to problems such as email users and broadband internet users churn .\n",
      "<Page:15>  Standard methods are, by far, the most popular ones in recent literature: DTs and Regression Analysis . Computational Intelligence methods are also reasonably well accepted but still a novelty despite their long-standing record in many other application ﬁelds, including business [96, 64].\n",
      "<Page:16>  Random Forest (RF):ItisacombinationofBagging[9], RandomSubspaceMethod[37]and CART DTs [5] RFs solve instability that hampers the use of DTs . Random Forest outperformed SVMs and logistic regression, and its usefulness was recently conﬁrmed when predicting abandonment in the online gaming industry .\n",
      "<Page:17>  Many studies do not seem to include any form of validation explicitly, something that should be compulsory if we aim to assess the ability of the model to generalize its results with unseen data . The use of cross-validation is the most favoured strategy, but many studies only report a single training/test data split, which is a sub-optimal validation strategy .\n",
      "<Page:18>  Thispaperhassurveyed recent literature in which the use of IDA has been proposed for the problem of churn analysis . It is clear that no particular IDA method has the upper hand in terms of results, which means that the choice of method is very problem-dependent . Thereviewedstudies are scattered in a large number of international journals (over 20)\n",
      "<Page:19> erro\n",
      "<Page:20> erro\n",
      "<Page:21>  Kim K, Jun C, Lee J (2014) Improved churn prediction in telecommunication industry by analyzing a large network . KimMK, ParkMC, JeongDH (2004) Theeﬀectsofcustomersatisfactionandswitchingbarrier oncustomerloyaltyin Korean mobile telecommunication .\n",
      "<Page:22> erro\n",
      "<Page:23>  VellidoA,LisboaPJ,VaughanJ(1999) Neuralnetworksin business:asurveyofapplications(1992-1998). Expert Systems with Applications 17(1):51–70) VerbekeW,DejaegerK,MartensD,HurJ,BaesensB(2011) Newinsightsintochurnpredic-turned-scientists: Aproﬁtdrivendataminingapproach .\n"
     ]
    },
    {
     "name": "stderr",
     "output_type": "stream",
     "text": [
      "Your min_length is set to 56, but you input_length is only 23. You might consider decreasing min_length manually, e.g. summarizer('...', min_length=10)\n",
      "Your max_length is set to 142, but you input_length is only 23. You might consider decreasing max_length manually, e.g. summarizer('...', max_length=50)\n"
     ]
    },
    {
     "name": "stdout",
     "output_type": "stream",
     "text": [
      "<Page:24>  The ﬁgure shows the generated value -ordinate axis- of three illustrative customer proﬁles -gold, silver, bronze- during their time of relationship with the company . It also shows the stages of customer-company interactions and the basic commercial aspects to solve in each one of the stages .\n"
     ]
    },
    {
     "name": "stderr",
     "output_type": "stream",
     "text": [
      "Your min_length is set to 56, but you input_length is only 17. You might consider decreasing min_length manually, e.g. summarizer('...', min_length=10)\n",
      "Your max_length is set to 142, but you input_length is only 17. You might consider decreasing max_length manually, e.g. summarizer('...', max_length=50)\n"
     ]
    },
    {
     "name": "stdout",
     "output_type": "stream",
     "text": [
      "<Page:25>  Figure 1. IntelligentDataAnalysis.ApproachestoChurnasaBusinessProblem:aSurvey 25. Figure 1 . Figure 1 is a survey of 25,000 people who participated in a survey . Figure 25 is a result of an analysis of the data collected by IntelligentData Analysis.\n"
     ]
    },
    {
     "name": "stderr",
     "output_type": "stream",
     "text": [
      "Your min_length is set to 56, but you input_length is only 23. You might consider decreasing min_length manually, e.g. summarizer('...', min_length=10)\n",
      "Your max_length is set to 142, but you input_length is only 23. You might consider decreasing max_length manually, e.g. summarizer('...', max_length=50)\n"
     ]
    },
    {
     "name": "stdout",
     "output_type": "stream",
     "text": [
      "<Page:26>  Figure 1: DavidL.Garc´ıaetal. 26: DavidGarc GarcâÂÂÂ: Figure 2: Figure 3: Figure 4: Figure 5: Figure 8: Figure 1. Figure 4. Figure 5. Figure 8. Figure 10: Figure 6: Figure 7: Figure 9: Figure 10 . Figure 10. Figure 11: Figure 13: Figure 12: Figure 14: Figure 11. Figure 13. Figure 14 .\n"
     ]
    },
    {
     "name": "stderr",
     "output_type": "stream",
     "text": [
      "Your min_length is set to 56, but you input_length is only 17. You might consider decreasing min_length manually, e.g. summarizer('...', min_length=10)\n",
      "Your max_length is set to 142, but you input_length is only 17. You might consider decreasing max_length manually, e.g. summarizer('...', max_length=50)\n"
     ]
    },
    {
     "name": "stdout",
     "output_type": "stream",
     "text": [
      "<Page:27>  Figure 3. IntelligentDataAnalysis.ApproachestoChurnasaBusinessProblem:aSurvey 27. Figure 3 . Figure 3 is a survey of 27,000 people who participated in a survey . Figure 4 is a result of an analysis of the data collected by IntelligentData Analysis.\n"
     ]
    },
    {
     "name": "stderr",
     "output_type": "stream",
     "text": [
      "Your min_length is set to 56, but you input_length is only 23. You might consider decreasing min_length manually, e.g. summarizer('...', min_length=10)\n",
      "Your max_length is set to 142, but you input_length is only 23. You might consider decreasing max_length manually, e.g. summarizer('...', max_length=50)\n"
     ]
    },
    {
     "name": "stdout",
     "output_type": "stream",
     "text": [
      "<Page:28>  Figure 4. 28 DavidL.Garc´ıaetal.Figure 4. Figure 4 . Figure 4: Figure 4 is a representation of David Garcia . David Garcia is a member of the Garcia family . David García is a former member of García's family of the García family .\n"
     ]
    },
    {
     "name": "stderr",
     "output_type": "stream",
     "text": [
      "Your min_length is set to 56, but you input_length is only 17. You might consider decreasing min_length manually, e.g. summarizer('...', min_length=10)\n",
      "Your max_length is set to 142, but you input_length is only 17. You might consider decreasing max_length manually, e.g. summarizer('...', max_length=50)\n"
     ]
    },
    {
     "name": "stdout",
     "output_type": "stream",
     "text": [
      "<Page:29>  Figure 5. IntelligentDataAnalysis.ApproachestoChurnasaBusinessProblem:aSurvey 29. Figure 5 . Figure 5 is a survey of 29 people who participated in the survey . Figure 4. Figure 4 is a result of a survey by IntelligentData Analysis. Approarliest Data Analysis.\n",
      "<Page:30>  Figure 6: 30 DavidL.Garc´ıaetal. 30: Figure 6. Figure 7: Figure 8: David Garcia, 30: David García, 30. Figure 8. Figure 9: David Garcia, 30, David Garcia . Figure 10: Figure 7 . Figure 8 . Figure 9 : David Garcia. 30 David.\n",
      "<Page:31>  Table 1 is structured by application area and then by category of predictive model . References are listed in the right-handcolumn . The “mixed” category includes studies in which methods from diﬀerent categories have been used . Table 1 includes Tables 2 to 14, located in the Appendix section .\n",
      "<Page:32> erro\n",
      "<Page:33> erro\n",
      "<Page:34>  34 DavidL.Garc´ıaetal. 3.3.3-esque(rejected) standardmeth Validationmethod Accuracy,sensitivity,specificity and AUC. Accuracy,AUC,Precision,Recall,MeanAbsoluteErrorandcomputingtime. accuracy,precision,recall,accuracyandF-measure .\n",
      "<Page:35>  Validationmethod LiftChartandcross-validation. Accuracyonaseparatevalidationdataset. Leastaverageerror,leastrootmeansquareerrorandaccuracy. NotSpecified. Lift chartandAccuracyvalues. LiftChart andAccuracy.values.\n",
      "<Page:36>  36 DavidL. Garcia´aetal.Garc´ı aetals.u.g.u: ‘a.u’ (‘g) ‘g’: ‘i’, ‘u.h’; ‘v’ ‘p’. ‘e.u.: ‘I’ve got the data from the BusinessIntelligenceCup,Univ.ofChile. Company database. Datasets from UCIMLRepositoryand theannualDMCup.com .\n",
      "<Page:37>  The IntelligentDataAnalysisApproachestoChurnasaBusinessProblem:aSurvey 37.3.3 (%), aSurvey of 37,000 people . Data from 13consecutivemonths. Notspecified. Data from13consecutives months. Notdeclared 1-yeardata, from September 2004 to August 2005 .\n",
      "<Page:38>  38 DavidL.Garc´ıaetal.2,                trulyof.truly-reformed methods . Validationbasedontherealeffectsoftheimprovedsegmentationonthecustomerbase. AccuracyandAUC,usingseparatevalidationdatasets. Fractionalerror,weightedabsolutevalueandweightedsumofdifferencesontheleadtimes.\n",
      "<Page:39>  The IntelligentDataAnalysisApproachestoChurnasaBusinessProblem:aSurvey 39.g.u.n.i.u’s (39.g) andco Validationmethods. Based on the BusinessIntelligenceCup,Univ.ofChile. Database, availableinpreviousstudies. DatasetfromtheBusinessIntelligence.Cup. Database. Company database. Datatype Purchasebehaviour, seenasasequenceofthehistoricalpurchased products(groupedin9setsof products)\n",
      "<Page:40> erro\n",
      "<Page:41>  IntelligentDataAnalysisApproachestoChurnasaBusinessProblem:aSurvey 41.                                p.                       “IntelligentDataAnalysis’s. accuracy,precision,recall,accuracyandF-measurewithMonteCarlo-basedcross-validation. Accuracy. accuracy .\n",
      "<Page:42> erro\n",
      "<Page:43>  AUC,AUC,TopDecileLiftandLiftIndex, TopDecile Lift and 10-foldcross-validation. Validationfocussedonthegoodnessofthesegmentation. Accuracy andAUC . Validationbasedonimprovementofcustomerse segmentation.\n",
      "<Page:44>  44 DavidL.Garc´ıaetal: Theoreticalstudy. Fractionalerror,weightedabsolutevalandweightedsumofdifferencesontheleatimes. Accuracy,AUC,TopDecileLiftandLiftIndex .\n",
      "/mnt/c/nuvem/Dropbox/doutoramento/tese/SLRDropout/analysis/selected_articles/final_dataset/files/11432/Ballings Van den Poel_2012_Customer event history for churn prediction.pdf\n",
      "<Page:1>  Study: How long should the length of customer event history for churn prediction be for customer churn prediction? The key question of this study is how long is long enough? Time window optimization with respect to predictive performance . The practical implication is that analysts can substantially decrease data-related burdens, such as data storage, preparation and analysis .\n",
      "<Page:2>  From an algorithm-based perspective, CRM has evolved from using RFM (Recency, Frequency and Monetary) models, to more recent advanced techniques such as random forests (Larivière & Van den Poel, 2005), neural networks (Zahavi & Levin, 1997) and support vector machines (Shin & Cho, 2006) The data and algorithm dimensions are very important, but they constitute only two of three components of the modeling problem . The third component, the time window, remains thus far under-researched (see fig. 1)\n",
      "<Page:3>  We provide a formalization of different types of windows . A window type can be defined by the variability of the length of the window: constant (C) or variable (V) Given the three time windows in one configuration, the predictors period, the operational period and the response period, there are theoretically 8 possible configurations .\n",
      "<Page:4>  We analyze the entire customer database of a newspaper company . The churn rate for the estimation and validation is respectively 11.15% and 11.47% . Churn prediction involves predicting whether  the customer will or not renew his or her subscription in the four-week period following the end of the subscription . The performance of the two techniques is very similar and depends on a multitude of factors such as the normality of the data .\n",
      "<Page:5>  Logistic regression and classification trees are widely used by practitioners and academics . Bagging is a simple approach to increase the predictive performance of classification techniques . We used CHAID (Chi-squared automatic interaction detection) and not CART (Breiman,  Friedman, Olshen & Stone, 1984) as the method of classication tree construction .\n",
      "<Page:6>  Frequent and heavier buyers are more likely to display loyal behavior . The more money a customer spends with the company, the higher the repurchase  likelihood . In addition to RFM variables, length of relationship (LOR) also is a top predictor . Table 1 provides an overview of the included variables in this study .\n",
      "<Page:7>  We use AUC instead of accuracy (Percentage of correctly classified, PCC) because AUC is not sensitive to the cut-off value of the ‘a posteriori’ probabilities . Figure 3 shows the predictive performance, in terms of AUC, across the different lengths of the  customer event history .\n",
      "<Page:8>  All three classifiers show a logarithmic increase in performance when the length of the independent period increases . After the fifth year, the increase in predictive performance seems to level off for two  out of three  classifiers (trees  and trees + bagging) The difference with the minimum length of one year is not improving . The third dimension of predictive modeling, the time window, remains under researched .\n",
      "<Page:9>  In a world where data is growing at an exponential rate, companies are especially looking for efficiency . We have used logistic regression, classification trees and classification trees to study relation between length of customer event history and classification performance . We conclude that the length of the predictors period is logarithmically related to  classification performance .\n",
      "<Page:10>  Researchers from Van den Poel and Baecke (P., P., D. P., P. & D. B. A. Bhattacharya (1998) When customers are members: Customer retention in paid membership  contextss. (1998). When customers were members, when customers were paying members, they were not paying members .\n",
      "<Page:11>  Researchers from the Academy of Marketing Science and the University of Stanford University discuss big data data mining . They use Random Forests and Regression Forests techniques to predict customer loyalty and customer retention . The study was published in the Journal of Marketing Research, 17(2), 212-220 .\n",
      "<Page:12>  The case against accuracy estimation for comparing uctiveinduction algorithms is discussed in Proc. Morgan Kaufman, San Francisco, CA . The case is being discussed at the 15th International Conference on Machine.Learning.  In:  J. J. Shavlik (Ed.),  Proc.  of  15th  International Conference  on Machine  Researchers.  on  Machine \n",
      "/mnt/c/nuvem/Dropbox/doutoramento/tese/SLRDropout/analysis/selected_articles/final_dataset/files/11440/Ballings et al_2012_Improving Customer Churn Prediction by Data Augmentation Using Pictorial.pdf\n",
      "<Page:1>  The purpose of this paper is to determine the added value of pictorial stimulus-choice data in customer churn prediction . The practical implication is that companies should start mining pictorial data from social media sites (e.g. Pinterest) or use pictures instead of verbal scales in surveys .\n",
      "<Page:2>  Even small increases in retention can have substantial impact on a company’s results (Gupta,  Lehmann, &  Stuart, 2004) Even an increase of 1% in retention in a company can have a dramatic influence on contributions . The internal transactional database is considered the baseline for database enhancement because it contains the  top predictors in extant database marketing modeling: recency, frequency and  monetary value .\n",
      "<Page:3>  Pictures contain a massive amount of information and user actions could potentially reveal part of that information . Social media platforms and the rise of picture centered social networks (e.g., Pinterest) new opportunities for data augmentation are created in the realm of pic-torial content . The study aims to assess the added value of picorial stimulus choice data to customer churn prediction over and above traditional customer data .\n",
      "<Page:4>  Traditional surveys are too long asking the re-spondent too much of his/her time . Social barriers, language barriers and memory-based barriers can be overcome . Pictures alleviate these problems in that they function as an enabling technique . Picture association is a task in which the respondent is asked to choose a picture or image out of multiple possibilities as re-request to a specific question .\n",
      "<Page:5>  An alternative response method (pictures instead of scales) can be conceived of as being the source of multiple advantages and would there-ishlyfore be an attractive means of data augmentation . The study aims to fill this gap in literature by evaluating the added value of  pictorial stimulus-choice data in customer intelligence over and above the tradi-centric data sources discussed above .\n",
      "<Page:6>  Table 2 displays the sample characteristics (5 times 2 fold cross-validation) Table 2: Sample characteristics . Figure 1 displays the time-window to analyze churners in order to discriminate churners from non-churners . We were able to assess the added value of pictorial stimulus-choice data . The model is built in the first step, both the independent and dependent period can be shifted forward .\n",
      "<Page:7>  Administrative data represents all information regarding agreements made be-tween the customer and the company at the time of the purchase decision . Operational data holds the entire customer history (at the subscriber’s level) Data also contains socio-demographic data, and data about suspensions, forward interruptions, credit handling and marketing actions .\n",
      "<Page:8>  Complaints data contains information about the number and topic of complaints and the solution and answer given . Survey data can be conceived of as resulting from a company-initiated feedback process . Mindset variables (e.g., purchase intentions, commitment, product rec-ommendations) are impossible to collect from internal processes .\n",
      "<Page:9>  We used Random Forest (Breiman, 2001) to create the churn model because of  multiple reasons . We opted for an ad-hoc approach here (an online survey) while companies could go online and mine social network data . Figure 2 represents an example such as the picture sets we used (a woman’s facial expressions)\n",
      "<Page:10>  AUC is argued to be an objective criterion for classifier performance by several authors . We use AUC instead of accuracy (Percentage of correctly classified, PCC) because AUC,  in contrast to PCC, is the insensitive to the cut-off value of the ‘a posteriori’ prob-abilities . AUC ranges from .5, if the predictions are not better than random, to 1, if the model predicts the behavior perfectly .\n",
      "<Page:11>  The Wilcoxon signed ranks test (Wilcoxon, 1945) ranks, per data set, the differences in performance of two classifiers . We follow the recommendation of (Demšar, 2006) to use the Wilcox signed rank test . Figure 3 presents the added value per data type . Results indicate that the addi-generation of the operational data accounts for the biggest increase in AUC .\n",
      "<Page:12>  When only administrative data is analyzed pictorials add 0.9% to the predictive performance . When all data are modeled pictorial stimulus- choice data adds 0.1% . The same conclusion can be drawn for models based on administrative, operational, complaints and survey da-centricta (p > .10)\n",
      "<Page:13>  A picture contains a huge amount of information, user actions (e.g. ‘liking’ a pic-insuredture on a social media platform) could possibly say a great deal about future behavior . Future research could use a structural approach by mining online social networks .\n",
      "<Page:14>  It might prove valuable to adapt the question to gauge a more proxi-centricmal attitude to behavior (e.g., Which picture best represents your commitment to  grotesquely staying with the newspaper? The Belgian government grant No. P7/06 of the Belgian government (Belgian Sci-Review Policy)\n",
      "<Page:15>  Van den Poel, D. D. and J. Vanthienen (2012) use kinship network information to improve retention of customers . Vanden: Churn prediction in subscription services: An application of support vector machines while comparing two parame-privatter-selection techniques . Vanne: \"How long is long enough?\"\n",
      "<Page:16>  Researchers have found a way to reduce social bias in marketing . The study was published in the journal Journal of Marketing Research, 47, 1, 14-27 . The author has published a number of articles on the topic of marketing and customer satisfaction in the U.S. and Europe .\n",
      "<Page:17>  A.Gounaris, SP. (2005). Trust and commitment influences on customer retention:    Journal of Business Research. 58                 (2) 126-140. (2009). Understanding the psychological process underlying customer satisfaction and retention in a relational service, Journal of                                  (2009)\n",
      "<Page:18>  The case of financial services is the result of using survival analysis and choice modeling to predict customer retention and prof-ishlyitability . The C-OAR-SE procedure for scale development in marketing has been used in marketing . The case against accuracy estima-heticaltion for comparing induction algorithms is discussed in the ICML-1998 .\n",
      "<Page:19>  Researchers from Van den Poel and Thorleuchter predict e-commerce company's success by mining the text of its publicly-accessible website . They also use a customer attrition analysis for financial services using proportional hazard models . The research was published in the journal International Journal of Production Economics .\n",
      "/mnt/c/nuvem/Dropbox/doutoramento/tese/SLRDropout/analysis/selected_articles/final_dataset/files/11453/Burez Van den Poel_2009_Handling class imbalance in customer churn prediction.pdf\n",
      "<Page:1>  The author of this article is Dirk Van den Poel, Professor of Marketing Modeling / Analytical Customer Relationship at Ghent University, Faculty of Economics and Business Administration, Department of Economics . The author is a researcher at the University of Tweekerkenstraat 2, B-9000 Gent, Belgium .\n",
      "<Page:2>  Customer churn is often a rare event in service industries, but of great interest and great value . Until recently, class imbalance has not received much attention in the context of data mining (Weiss, 2004) In this study, we investigate how we can better handle class imbalance in churn prediction . Using more appropriate evaluation metrics (AUC, lift), we investigated the increase in performance of sampling and two specific modelling techniques .\n",
      "/mnt/c/nuvem/Dropbox/doutoramento/tese/SLRDropout/analysis/selected_articles/final_dataset/files/11456/Burez Vandenpoel_2008_Separating financial from commercial customer churn.pdf\n",
      "<Page:1>  A modeling step towards resolving the conflict between Sales And Credit departments . Separating Financial From Commercial Customer Churn:  a Modeling Step Towards Resolving The Conflict . The paper was published in the journal of Marketing Modeling, Analytical Customer Relationship Management, Ghent University .\n",
      "<Page:2>  The paper shows that the two different processes mentioned can be separated by using information from the internal database of the company . Previous bad-payment behavior is more important as a driver for financial churn than for commercial churn . The impact of ‘loyalty’ actions is far greater with potential commercial churners as compared to financial churners .\n",
      "<Page:3>  General Motors led the field during the 1920s with their new focus on advertising, installment financing, and the art of styling low-priced automobiles . GM faced tension to the extent that one party’s profit came at the expense of another party . Subsequently, we will build a case about churn definitions, and hypothesize on churn definitions . After a methodological part, the case study at the pay-TV company is described, and results are reported .\n",
      "<Page:4>  A subscription renewal decision is a type of repeat buying . CRM in subscription services comes down to “attracting new customers” and “keeping  the existing customers’’, known as defensive marketing . The marketing department tries to convince as many customers to renew their contract as possible .\n",
      "<Page:5>  Based on the way a customer terminates a contract, we will show that there exist three different types of churn: involuntary churn, financial churn and commercial churn . We also include variables often used in credit scoring, but not (often) used in churn prediction . Other variables that can be added to the model include detailed credit bureau reports (e.g., Overstreet and Bradley, 1994)\n",
      "<Page:6>  Previous bad-payment behavior is more important in the financial churn prediction model than in the commercial churn predictions model . Different types of interventions can have different impacts on customers depending on their characteristics (e.g., De Wulf et al. 2001) Targeting financial defection-prone customers worsens customer retention . Targeting with relationship-oriented marketing interventions will hence improve retention .\n",
      "<Page:7>  Breiman (2001) introduced a solution to the previously mentioned problem: Random Forests . This technique uses a subset of m randomly chosen predictors to grow each tree on a bootstrap sample of the training data . After a large number of trees is generated, each tree votes for the  most popular class . By aggregating these votes over the different trees, each case is predicted a class label .\n",
      "<Page:8>  The aim of the definition is to quantify the instantaneous risk that the event will occur at time t . The Kaplan-Meier estimator (also known as the Product Limit Estimator) provides an estimate of the survival function from life-time data (Kaplan and Meier, 1958) In customer churn prediction, one measures the length of  time customers remain with the company .\n",
      "<Page:9>  At this European pay-TV company, all customers have a 12-month subscription . Cancelling within that period is not allowed, nor is prematurely reporting that a subscription will not be renewed . In almost all cases, this is due to bad payment behavior: a customer cannot or does not want to pay his subscription any more .\n",
      "<Page:10>  Different subsets of the training set will be used while modeling financial churn . This is done to investigate the effects of leaving some customers out of the data set, on the predictive power of the model . Data is extracted for this study from the data warehouse of the pay-TV company . The static model had over 100,000 observations, of whom we collected 171 independent variables .\n",
      "<Page:11>  The survival curve of the customers of the pay-TV company (see Figure 3) clearly confirms the subscription renewal process . After one year, a huge drop can be noticed in the survival curve . Commercial churners do not churn during their one-year subscription; they do it at the end of their subscription .\n",
      "<Page:12>  The biggest part of commercial churn happens after one year of subscription: almost 20% of the customers leave at that point . Financial churners leave at any point in their relationship with the company . The curve decreases less and less, meaning that a customer is more at risk in the first few years of subscription .\n",
      "<Page:13>  Table 1: AUC performance results (shown in %) from the different models . Financial churn is a lot easier to predict than commercial churn because on average all financial churn models score about 86% on the out-of-period dataset compared to 68% for commercial churn models .\n",
      "<Page:14>  Table 2 shows the most important variables for the financial churn prediction model . The last three columns represent respectively the z-value, the ranking, and the significance . For those variables, we also include in columns 2-5 the importance of those variables in  commercial churn prediction models . The table clearly shows that we can confirm hypothesis 2 .\n",
      "<Page:15>  Avant-premiere questionnaire group was targeted with different relationship marketing interventions (RMIs) Commercial churn (not renewing a subscription) and financial churn (no longer paying invoices of a current subscription) were defined as commercial churn . Financial churn could not be reduced; on the contrary, the churn rate slightly increased  compared to the control group .\n",
      "<Page:16>  Financial churn is easier to predict, commercial churn is much easier to prevent . A field experiment pointed out that you can convince commercially defection-prone customers to stay at your company . Further research could inquire into the cost-effectiveness of different incentives for different types of churn .\n",
      "<Page:17>  Au, T., Li, S. and Ma, G. Ma (2003) Applying and Evaluating Models to Predict Customer Attrition Using Data Mining Techniques . The author also discusses the role of credit scoring models in improving cash flow and collections . References include: A.u, W., Chan, Chan, K.C. and Yao, X.Y. and Liu .\n",
      "<Page:18>  Researchers from the Academy of Marketing Science (Academy of Marketing) and the University of Virginia (2005) have published a book on how to measure customer loyalty and customer lifetime value . The book is entitled, \"Predicting customer retention and profitability by using random forests\" and regression forests techniques .\n",
      "<Page:19>  The impact of sample bias on consumer credit scoring performance can be seen in the European Journal of Operational Research, 157(1), 196-217. (2005). (2005) (The impact of the sample bias is still unknown) (G.C. Thomas, L.C., Oliver, R.W. & Hand D.J.J.) (2004) (A.Y.M. Therneau, T.M., Grambsch, P.M.) (2000). Modeling Survival Data: Extending the Cox Model, Springer, New York . (2000) A survey of credit and behavioural scoring: forecasting financial risk of lending to . consumers .\n",
      "<Page:20>  The static churn prediction model is based on the number of subscriptions the customer has on pay-TV . The number of products the customer now has depends on the type of service the customer uses . Churns are calculated by the product type and the technology used to predict the customer's churn .\n",
      "<Page:21>  Customer status of the customer (0 = Me, Ml, SM; 1 =  Ccivil                   :                 ,                ;                :                 :                ,                                 ,                                                  =                                             January 2001:  February 2011: January/2012: February .\n",
      "<Page:22>  Length_subs  Continuous  Length of relationship at 28/2/2002 . Length of actual subscriptions (lor – gaps) is length of relationship . Markov value of the fourth order (no distinction is made between analogue or digital) Markov2_dummy  Continuous for this Markov chain . Noc2 Continuous  Absolute number of contracts relative to the lor .\n",
      "<Page:23>  The number of days that elapsed since filling in the questionnaire was the number of generic letters of a certain type received from a certain  pay-TV company . In_call_A  Continuous  Number of times customer called the company, (relative to length of relationship for the relationship for  the company) concerning:  the last 3,5 years .\n",
      "<Page:24>  After_call_C__ Continuous  Continuous  “After call work” on the subscriber (types as   above, X – else) ‘After’ is ‘after’ on subscriber . ‘Call_Calls_pos_pos’ and ‘Stand_contact_contact’ are ‘stand’s contacts between customer and Stand .\n",
      "<Page:25>  The number of churns in commercial churns is based on a churning model . The churns model has a churn rate of 38 per cent . The model is a churn model with churn rates of 1,000 churns per year . The average churn rate is 1,600 churns and churns are 1,800 churns .\n",
      "<Page:26>  Pind_subs 11,926 51 0                ep_mv 11,406 52 0                ev 11,351 53 0                in_call_D 11,221 54 0                og_6 10,897 56 0                rec_eg 10,877 57 0                noc 7,993 73 0                canc_78P 7,875 74 0                                          ‚��,    ;                 ;         ;;        candidate candidates were selected for categorized with qualities\n",
      "<Page:27>  The average number of objects is 4,268,000, with a score of 5,268 and 4,257,000 . The average value of a person is 1,000 points . The number of items in the table was 1,100 . The value of an object is 1-1,000. The average amount of objects in the list is 1.5 points .\n",
      "<Page:28>  The churn model is based on a churning model with a churn rate of 1% . The churn rate rate is 1% higher than the average churn rate in the industry . The rate rate rate of churning is 1 per cent . The number of churns in the churning process is 1,000,000. The churning rate rate has been set at 1,500. The rate is 2,000 per churn rate .\n",
      "<Page:29>  The study was designed to measure the importance of a person's presence in a state . The study is divided into categories of importance and importance . The average number of words used in the study is 9,571 and 9,000 words per word . The score is 1-1 and the average number is 1,600 words per person .\n",
      "<Page:30>  The average number of words is 4,069-111 . The average value of a word is 1,000. The average word was 1,500 . The number of items in the table is 1.1,000 . The value of each item is based on a value of 1,100. The number is 1-100 .\n",
      "/mnt/c/nuvem/Dropbox/doutoramento/tese/SLRDropout/analysis/selected_articles/final_dataset/files/11459/Burez Van den Poel_2007_CRM at a pay-TV company.pdf\n",
      "<Page:1>  At a Pay-TV Company: UsinAg Analytical Models to Reduce  ‘Customer Attrition by Targetedw  M0arketing for Subscription Services . M’��s Marketing, Ghent University, Hoveniersberg 24, B-9000 Gent, Belgium .\n",
      "/mnt/c/nuvem/Dropbox/doutoramento/tese/SLRDropout/analysis/selected_articles/final_dataset/files/11461/Wai-Ho Au et al_2003_A novel evolutionary data mining algorithm with applications to churn prediction.pdf\n",
      "<Page:1> erro\n",
      "<Page:2> erro\n",
      "<Page:3> erro\n",
      "<Page:4> erro\n",
      "<Page:5> erro\n",
      "<Page:6>  AUetal.:NOVELEVOLUTIONARYDATAMININGALGORITHM 537: 537. Thereproducefunction. The genetic operators used by DMEL are imple- (b) progressivelymented in the reproduce function shown in Fig. 4 . The crossover-1 operator allows the crossover points to occur between two rules only .\n",
      "<Page:7> erro\n",
      "<Page:8> erro\n",
      "<Page:9> erro\n",
      "<Page:10> erro\n",
      "<Page:11>  Liftcurves for DMEL, C4.5,andneuralnetworkunderdifferentmonthlychurnratesaveragedovertenruns . TableV shows that it is difficult, if not impossible, to decode execution times for the DMEL and neural networks under different monthly churn rates .\n",
      "<Page:12>  The experimental results showed that a subscriber churns if he/she lives in the data mining task faster than neural networks . Of the three KualaLumpur,isofagebetween36and44,and paidbillsusingapproaches,C4.5 required theleastexecutiontimetocomplete cash with weight of evidence of 1.20. The domain expert found this rule useful because it helps retain subscribers .\n",
      "<Page:13> erro\n",
      "<Page:14> erro\n",
      "/mnt/c/nuvem/Dropbox/doutoramento/tese/SLRDropout/analysis/selected_articles/final_dataset/files/11467/De Bock Van den Poel_2010_Ensembles of Probability Estimation Trees for Customer Churn Prediction.pdf\n",
      "<Page:1>  The potential of using probability estimation trees (PETs) instead of standard decision trees as base classifiers is investigated . The effect of the proposed strategies heavily depends on the chosen ensemble algorithm in which they are implemented . The results demonstrate the value of  using PETs over standard decision Trees in order to increase lift .\n",
      "<Page:2>  An effective Customer Relationship Management strategy is of the  most important aspect of CRM is customer retention . In churn prediction, information from customers that is available in the company database is used to determine their proneness to leave the company . Once built, these models can be used to predict the future behavior of customers and to target targeting information for churn-preventing marketing campaigns .\n",
      "<Page:3> erro\n",
      "<Page:4>  Lift focuses on the segment of customers with the highest risk to the company . The definition of lift depends upon the percentage of riskiest customers one is considering for a retention campaign . Churn data sets are typically characterized by high dimensionality, both in terms of number of features and number of instances . Another issue is the class imbalance of the data .\n",
      "<Page:5> erro\n",
      "<Page:6> erro\n"
     ]
    },
    {
     "name": "stderr",
     "output_type": "stream",
     "text": [
      "Your max_length is set to 142, but you input_length is only 41. You might consider decreasing max_length manually, e.g. summarizer('...', max_length=50)\n"
     ]
    },
    {
     "name": "stdout",
     "output_type": "stream",
     "text": [
      "<Page:7> erro\n",
      "<Page:8>  The authors thank the reviewers for reviewing the paper and Ghent University for funding the PhD project of Koen W. De Bock . Acknowledgements are made in this article . The authors are happy to provide an overview of the work done in the book . The author and the author of the book are open to the public .\n",
      "<Page:9>  Using analytical models to reduce  customer attrition by targeted marketing for subscription services, CRM at a pay-TV company: using analytical models . Using AdaBoost in customer churn prediction, AdaBoost could reduce attrition by targeting targeted marketing . The study was published in the journal of the International Conference on Service Systems and Service Management .\n",
      "<Page:10>  Researchers: Learning probabilistic decision trees for AUC . They also use random forests to test accuracy of PETs on imbalanced datasets when training and testing . Researchers: Bagging, boosting, and variants. An empirical comparison of voting classification algorithms. A. Bauer, E., Kohavi, R., Bauer, R.E.: A decision-theoretic generalization of on-line learning and an gorithmic generalization .\n",
      "/mnt/c/nuvem/Dropbox/doutoramento/tese/SLRDropout/analysis/selected_articles/final_dataset/files/11477/Antipov Pokryshevskaya_2010_Applying CHAID for logistic regression diagnostics and classification accuracy.pdf\n",
      "<Page:1>  A CHAID-based approach to detecting classiﬁ cation accuracy heterogeneity across segments of observations is proposed . The approach was applied to churn data from the UCI Repository of Machine  Researchers develop accuracy across segments . Different segments may have absolutely different churn  predictors .\n",
      "<Page:2> erro\n",
      "<Page:3> erro\n",
      "<Page:4> erro\n",
      "<Page:5>  The logistic regressions built on three segments  revealed with the help of the CHAID decision tree are presented in Table 3 . Table 2: Parameter estimates of model 1 and 2 models for four large segments of data are presented . Table 3: The parameter estimates for Model 2 and Model 1 are presented here .\n",
      "<Page:6> erro\n",
      "<Page:7>  CHAID decision tree: Accuracy of Model 2 (training sample) Churned: 1 681   36   1101   32    D  id not churn: D id did not churn . Table 4: Predicted category: Churned  223   60, 60   168, 168, 32, and D id didn't churn .\n",
      "<Page:8> erro\n",
      "<Page:9> erro\n",
      "/mnt/c/nuvem/Dropbox/doutoramento/tese/SLRDropout/analysis/selected_articles/final_dataset/files/11479/Al-Molhem et al_2019_Social network analysis in Telecom data.pdf\n",
      "<Page:1>  Many systems can be represented as networks or graph collections of nodes joined by graph theory . Social structures in these networks can be investigated using graph theory through social network analysis (SNA) In this paper, networks and SNA concepts were applied using Telecom data such as call detail records (CDRs) and cus‑tomers data to model our social network and to construct a weighed graph .\n",
      "<Page:2>  In Telecom domain influence sub-scribers are usually considered to be well-connected to other subscribers in network . This good connection guarantees low risk for churn but high potential for diffusion of products and services [6] Finding the actual influencers in Telecom field is a chal-ophobiclenging topic and it depends largely on intuition .\n",
      "<Page:3>  Al‑Molhemet et al. J Big Data    (2019) 6:99:99 . We used k-shell values to calculate the influence score for each node in the network . The most influential nodes are the highest in score . Multi-SIM subscribers with different operators have a higher potentiality to churn than ordinary subscribers . Detecting the multi-SIMs across different operators allows for even more usage profiling .\n",
      "<Page:4>  Onnela et al. [12] analyzed a weighted call graph  by examining its degree, strength, weight distributions,                 clustering and weighted clustering, together with correlations between these quan-centricities . Nanavati et al. [13] analyzed the graph properties such degree distribution and  neighborhood distribution over time of calls and SMS networks . They identified the most influential customers who can  spread positive or negative messages through the network using PageRank algorithm .\n"
     ]
    }
   ],
   "source": [
    "import os,re\n",
    "\n",
    "for root, dirs, files in os.walk(caminho):\n",
    "    for file in files[0:1]:\n",
    "        if file.endswith(\".pdf\"):\n",
    "            #ficheiros.append(os.path.join(root, file))\n",
    "            file = os.path.join(root,file)\n",
    "            #Normaliza path\n",
    "            file = os.path.normpath(file)\n",
    "            \n",
    "            pdf=pdfplumber.open(file)\n",
    "            all_text = ''\n",
    "            resumo=''\n",
    "            print(file)\n",
    "            for page in pdf.pages:\n",
    "                page_text = page.extract_text()\n",
    "                try:\n",
    "                    resumo=summarization(page_text)\n",
    "                    resumo=resumo[0]['summary_text']#obter só o texto do resultado\n",
    "                    print(page,resumo)\n",
    "                except:\n",
    "                    print(page,'erro')\n",
    "                #print(page_text)\n",
    "                all_text = all_text + '\\n' + resumo  "
   ]
  }
 ],
 "metadata": {
  "kernelspec": {
   "display_name": "Python 3",
   "language": "python",
   "name": "python3"
  },
  "language_info": {
   "codemirror_mode": {
    "name": "ipython",
    "version": 3
   },
   "file_extension": ".py",
   "mimetype": "text/x-python",
   "name": "python",
   "nbconvert_exporter": "python",
   "pygments_lexer": "ipython3",
   "version": "3.8.5"
  }
 },
 "nbformat": 4,
 "nbformat_minor": 4
}
